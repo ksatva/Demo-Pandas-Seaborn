{
 "cells": [
  {
   "cell_type": "markdown",
   "metadata": {},
   "source": [
    "# Pandas example (Tidying data)"
   ]
  },
  {
   "cell_type": "markdown",
   "metadata": {},
   "source": [
    "## Removing unnessary columns and remaning column labels"
   ]
  },
  {
   "cell_type": "code",
   "execution_count": 1,
   "metadata": {},
   "outputs": [],
   "source": [
    "import pandas as pd"
   ]
  },
  {
   "cell_type": "markdown",
   "metadata": {},
   "source": [
    "## loading csv file as pandas dataframe"
   ]
  },
  {
   "cell_type": "code",
   "execution_count": 2,
   "metadata": {},
   "outputs": [],
   "source": [
    "df =  pd.read_csv('/root/ai/_worKCLASSICAL/SurajKNayak/_step1_PreprocessingAndFeatureExtraction_complete_OptimizationNeeded/_ResultsAll_raw.csv')"
   ]
  },
  {
   "cell_type": "code",
   "execution_count": 63,
   "metadata": {},
   "outputs": [],
   "source": [
    "#df.shape\n",
    "#df.head\n",
    "#df.columns"
   ]
  },
  {
   "cell_type": "code",
   "execution_count": 3,
   "metadata": {},
   "outputs": [
    {
     "data": {
      "text/html": [
       "<div>\n",
       "<style scoped>\n",
       "    .dataframe tbody tr th:only-of-type {\n",
       "        vertical-align: middle;\n",
       "    }\n",
       "\n",
       "    .dataframe tbody tr th {\n",
       "        vertical-align: top;\n",
       "    }\n",
       "\n",
       "    .dataframe thead th {\n",
       "        text-align: right;\n",
       "    }\n",
       "</style>\n",
       "<table border=\"1\" class=\"dataframe\">\n",
       "  <thead>\n",
       "    <tr style=\"text-align: right;\">\n",
       "      <th></th>\n",
       "      <th>N</th>\n",
       "      <th>N.1</th>\n",
       "      <th>N.2</th>\n",
       "      <th>N.3</th>\n",
       "      <th>N.4</th>\n",
       "      <th>N.5</th>\n",
       "      <th>N.6</th>\n",
       "    </tr>\n",
       "  </thead>\n",
       "  <tbody>\n",
       "    <tr>\n",
       "      <th>1</th>\n",
       "      <td>1171</td>\n",
       "      <td>1171</td>\n",
       "      <td>1171</td>\n",
       "      <td>1171</td>\n",
       "      <td>1171</td>\n",
       "      <td>1171</td>\n",
       "      <td>1171</td>\n",
       "    </tr>\n",
       "    <tr>\n",
       "      <th>2</th>\n",
       "      <td>1160</td>\n",
       "      <td>1160</td>\n",
       "      <td>1160</td>\n",
       "      <td>1160</td>\n",
       "      <td>1160</td>\n",
       "      <td>1160</td>\n",
       "      <td>1160</td>\n",
       "    </tr>\n",
       "    <tr>\n",
       "      <th>3</th>\n",
       "      <td>1164</td>\n",
       "      <td>1164</td>\n",
       "      <td>1164</td>\n",
       "      <td>1164</td>\n",
       "      <td>1164</td>\n",
       "      <td>1164</td>\n",
       "      <td>1164</td>\n",
       "    </tr>\n",
       "    <tr>\n",
       "      <th>4</th>\n",
       "      <td>1167</td>\n",
       "      <td>1167</td>\n",
       "      <td>1167</td>\n",
       "      <td>1167</td>\n",
       "      <td>1167</td>\n",
       "      <td>1167</td>\n",
       "      <td>1167</td>\n",
       "    </tr>\n",
       "    <tr>\n",
       "      <th>5</th>\n",
       "      <td>1163</td>\n",
       "      <td>1163</td>\n",
       "      <td>1163</td>\n",
       "      <td>1163</td>\n",
       "      <td>1163</td>\n",
       "      <td>1163</td>\n",
       "      <td>1163</td>\n",
       "    </tr>\n",
       "  </tbody>\n",
       "</table>\n",
       "</div>"
      ],
      "text/plain": [
       "      N   N.1   N.2   N.3   N.4   N.5   N.6\n",
       "1  1171  1171  1171  1171  1171  1171  1171\n",
       "2  1160  1160  1160  1160  1160  1160  1160\n",
       "3  1164  1164  1164  1164  1164  1164  1164\n",
       "4  1167  1167  1167  1167  1167  1167  1167\n",
       "5  1163  1163  1163  1163  1163  1163  1163"
      ]
     },
     "execution_count": 3,
     "metadata": {},
     "output_type": "execute_result"
    }
   ],
   "source": [
    "## Locating Columns to delete \n",
    "#Slicing a column pandas (example)\n",
    "df.loc[1:5,['Name.1', 'Name.2', 'Name.3', 'Name.4', 'Name.5', 'Name.6']] #indexing (example)\n",
    "df.loc[1:5,['N','N.1', 'N.2', 'N.3', 'N.4', 'N.5', 'N.6']] #indexing and slicing (example)"
   ]
  },
  {
   "cell_type": "code",
   "execution_count": 65,
   "metadata": {},
   "outputs": [],
   "source": [
    "#Troubleshoot\n",
    "#print(df)"
   ]
  },
  {
   "cell_type": "markdown",
   "metadata": {},
   "source": [
    "## get \"column names\" from pandas dataframe"
   ]
  },
  {
   "cell_type": "code",
   "execution_count": 4,
   "metadata": {},
   "outputs": [],
   "source": [
    "dfcolnames = list(df.columns.values)  #getting column names"
   ]
  },
  {
   "cell_type": "markdown",
   "metadata": {},
   "source": [
    "## write a rule for renaming (based on the data in 'dfcolnames')"
   ]
  },
  {
   "cell_type": "code",
   "execution_count": 5,
   "metadata": {},
   "outputs": [],
   "source": [
    "# creating list of new names\n",
    "newcols=list()\n",
    "for el in dfcolnames:#range(1,164):\n",
    "   \n",
    "    if el == 'Name':\n",
    "        #print(el)\n",
    "        newcols.append(el)\n",
    "        \n",
    "    elif '.' in el:\n",
    "        elx = el.split('.')\n",
    "        nx = int(elx[1])+1\n",
    "        newcols.append(elx[0] + '_IMF' + str(nx)) #new\n",
    "        #print(newcols)\n",
    "    \n",
    "    else:\n",
    "        newcols.append(el + '_IMF' + str(1)) #new\n",
    "        #print(newcols)\n",
    "\n",
    "#renaming\n",
    "#df.rename(columns={'oldName1': 'newName1', 'oldName2': 'newName2'}, inplace=True)\n",
    "for i in range(0,175):\n",
    "    df.rename(columns={dfcolnames[i]: newcols[i]}, inplace=True)"
   ]
  },
  {
   "cell_type": "code",
   "execution_count": 7,
   "metadata": {},
   "outputs": [
    {
     "name": "stdout",
     "output_type": "stream",
     "text": [
      "Old column names:\n",
      " ['Name', 'N', 'Summation', 'Mean', 'Median', 'Mode', 'Var', 'SD', 'Skewness', 'Kurtosis', 'RMS', 'Energy', 'LogEnergy', 'ShannonEn', 'ApproxEntropy', 'SampEntropy', 'svdEntropy', 'SpectralEntropy', 'PermutationEntropy', 'FisherInfo', 'HFD', 'Activity', 'Complexity', 'Morbidity', 'PFD', 'Name.1', 'N.1', 'Summation.1', 'Mean.1', 'Median.1', 'Mode.1', 'Var.1', 'SD.1', 'Skewness.1', 'Kurtosis.1', 'RMS.1', 'Energy.1', 'LogEnergy.1', 'ShannonEn.1', 'ApproxEntropy.1', 'SampEntropy.1', 'svdEntropy.1', 'SpectralEntropy.1', 'PermutationEntropy.1', 'FisherInfo.1', 'HFD.1', 'Activity.1', 'Complexity.1', 'Morbidity.1', 'PFD.1', 'Name.2', 'N.2', 'Summation.2', 'Mean.2', 'Median.2', 'Mode.2', 'Var.2', 'SD.2', 'Skewness.2', 'Kurtosis.2', 'RMS.2', 'Energy.2', 'LogEnergy.2', 'ShannonEn.2', 'ApproxEntropy.2', 'SampEntropy.2', 'svdEntropy.2', 'SpectralEntropy.2', 'PermutationEntropy.2', 'FisherInfo.2', 'HFD.2', 'Activity.2', 'Complexity.2', 'Morbidity.2', 'PFD.2', 'Name.3', 'N.3', 'Summation.3', 'Mean.3', 'Median.3', 'Mode.3', 'Var.3', 'SD.3', 'Skewness.3', 'Kurtosis.3', 'RMS.3', 'Energy.3', 'LogEnergy.3', 'ShannonEn.3', 'ApproxEntropy.3', 'SampEntropy.3', 'svdEntropy.3', 'SpectralEntropy.3', 'PermutationEntropy.3', 'FisherInfo.3', 'HFD.3', 'Activity.3', 'Complexity.3', 'Morbidity.3', 'PFD.3', 'Name.4', 'N.4', 'Summation.4', 'Mean.4', 'Median.4', 'Mode.4', 'Var.4', 'SD.4', 'Skewness.4', 'Kurtosis.4', 'RMS.4', 'Energy.4', 'LogEnergy.4', 'ShannonEn.4', 'ApproxEntropy.4', 'SampEntropy.4', 'svdEntropy.4', 'SpectralEntropy.4', 'PermutationEntropy.4', 'FisherInfo.4', 'HFD.4', 'Activity.4', 'Complexity.4', 'Morbidity.4', 'PFD.4', 'Name.5', 'N.5', 'Summation.5', 'Mean.5', 'Median.5', 'Mode.5', 'Var.5', 'SD.5', 'Skewness.5', 'Kurtosis.5', 'RMS.5', 'Energy.5', 'LogEnergy.5', 'ShannonEn.5', 'ApproxEntropy.5', 'SampEntropy.5', 'svdEntropy.5', 'SpectralEntropy.5', 'PermutationEntropy.5', 'FisherInfo.5', 'HFD.5', 'Activity.5', 'Complexity.5', 'Morbidity.5', 'PFD.5', 'Name.6', 'N.6', 'Summation.6', 'Mean.6', 'Median.6', 'Mode.6', 'Var.6', 'SD.6', 'Skewness.6', 'Kurtosis.6', 'RMS.6', 'Energy.6', 'LogEnergy.6', 'ShannonEn.6', 'ApproxEntropy.6', 'SampEntropy.6', 'svdEntropy.6', 'SpectralEntropy.6', 'PermutationEntropy.6', 'FisherInfo.6', 'HFD.6', 'Activity.6', 'Complexity.6', 'Morbidity.6', 'PFD.6']\n",
      "\n",
      "New column names:\n",
      " ['Name', 'N_IMF1', 'Summation_IMF1', 'Mean_IMF1', 'Median_IMF1', 'Mode_IMF1', 'Var_IMF1', 'SD_IMF1', 'Skewness_IMF1', 'Kurtosis_IMF1', 'RMS_IMF1', 'Energy_IMF1', 'LogEnergy_IMF1', 'ShannonEn_IMF1', 'ApproxEntropy_IMF1', 'SampEntropy_IMF1', 'svdEntropy_IMF1', 'SpectralEntropy_IMF1', 'PermutationEntropy_IMF1', 'FisherInfo_IMF1', 'HFD_IMF1', 'Activity_IMF1', 'Complexity_IMF1', 'Morbidity_IMF1', 'PFD_IMF1', 'Name_IMF2', 'N_IMF2', 'Summation_IMF2', 'Mean_IMF2', 'Median_IMF2', 'Mode_IMF2', 'Var_IMF2', 'SD_IMF2', 'Skewness_IMF2', 'Kurtosis_IMF2', 'RMS_IMF2', 'Energy_IMF2', 'LogEnergy_IMF2', 'ShannonEn_IMF2', 'ApproxEntropy_IMF2', 'SampEntropy_IMF2', 'svdEntropy_IMF2', 'SpectralEntropy_IMF2', 'PermutationEntropy_IMF2', 'FisherInfo_IMF2', 'HFD_IMF2', 'Activity_IMF2', 'Complexity_IMF2', 'Morbidity_IMF2', 'PFD_IMF2', 'Name_IMF3', 'N_IMF3', 'Summation_IMF3', 'Mean_IMF3', 'Median_IMF3', 'Mode_IMF3', 'Var_IMF3', 'SD_IMF3', 'Skewness_IMF3', 'Kurtosis_IMF3', 'RMS_IMF3', 'Energy_IMF3', 'LogEnergy_IMF3', 'ShannonEn_IMF3', 'ApproxEntropy_IMF3', 'SampEntropy_IMF3', 'svdEntropy_IMF3', 'SpectralEntropy_IMF3', 'PermutationEntropy_IMF3', 'FisherInfo_IMF3', 'HFD_IMF3', 'Activity_IMF3', 'Complexity_IMF3', 'Morbidity_IMF3', 'PFD_IMF3', 'Name_IMF4', 'N_IMF4', 'Summation_IMF4', 'Mean_IMF4', 'Median_IMF4', 'Mode_IMF4', 'Var_IMF4', 'SD_IMF4', 'Skewness_IMF4', 'Kurtosis_IMF4', 'RMS_IMF4', 'Energy_IMF4', 'LogEnergy_IMF4', 'ShannonEn_IMF4', 'ApproxEntropy_IMF4', 'SampEntropy_IMF4', 'svdEntropy_IMF4', 'SpectralEntropy_IMF4', 'PermutationEntropy_IMF4', 'FisherInfo_IMF4', 'HFD_IMF4', 'Activity_IMF4', 'Complexity_IMF4', 'Morbidity_IMF4', 'PFD_IMF4', 'Name_IMF5', 'N_IMF5', 'Summation_IMF5', 'Mean_IMF5', 'Median_IMF5', 'Mode_IMF5', 'Var_IMF5', 'SD_IMF5', 'Skewness_IMF5', 'Kurtosis_IMF5', 'RMS_IMF5', 'Energy_IMF5', 'LogEnergy_IMF5', 'ShannonEn_IMF5', 'ApproxEntropy_IMF5', 'SampEntropy_IMF5', 'svdEntropy_IMF5', 'SpectralEntropy_IMF5', 'PermutationEntropy_IMF5', 'FisherInfo_IMF5', 'HFD_IMF5', 'Activity_IMF5', 'Complexity_IMF5', 'Morbidity_IMF5', 'PFD_IMF5', 'Name_IMF6', 'N_IMF6', 'Summation_IMF6', 'Mean_IMF6', 'Median_IMF6', 'Mode_IMF6', 'Var_IMF6', 'SD_IMF6', 'Skewness_IMF6', 'Kurtosis_IMF6', 'RMS_IMF6', 'Energy_IMF6', 'LogEnergy_IMF6', 'ShannonEn_IMF6', 'ApproxEntropy_IMF6', 'SampEntropy_IMF6', 'svdEntropy_IMF6', 'SpectralEntropy_IMF6', 'PermutationEntropy_IMF6', 'FisherInfo_IMF6', 'HFD_IMF6', 'Activity_IMF6', 'Complexity_IMF6', 'Morbidity_IMF6', 'PFD_IMF6', 'Name_IMF7', 'N_IMF7', 'Summation_IMF7', 'Mean_IMF7', 'Median_IMF7', 'Mode_IMF7', 'Var_IMF7', 'SD_IMF7', 'Skewness_IMF7', 'Kurtosis_IMF7', 'RMS_IMF7', 'Energy_IMF7', 'LogEnergy_IMF7', 'ShannonEn_IMF7', 'ApproxEntropy_IMF7', 'SampEntropy_IMF7', 'svdEntropy_IMF7', 'SpectralEntropy_IMF7', 'PermutationEntropy_IMF7', 'FisherInfo_IMF7', 'HFD_IMF7', 'Activity_IMF7', 'Complexity_IMF7', 'Morbidity_IMF7', 'PFD_IMF7']\n"
     ]
    }
   ],
   "source": [
    "#Troubleshoot\n",
    "print('Old column names:\\n',dfcolnames) #---old column names\n",
    "print('\\nNew column names:\\n',newcols) #---new column names"
   ]
  },
  {
   "cell_type": "markdown",
   "metadata": {},
   "source": [
    "## Deleting columns from pandas dataframe"
   ]
  },
  {
   "cell_type": "code",
   "execution_count": 8,
   "metadata": {},
   "outputs": [],
   "source": [
    "# del df['N']\n",
    "for ix in range(1,8):\n",
    "    #string = 'Name.'+str(ix)\n",
    "    string1 = 'N_IMF'+str(ix)    #creating a string for the 'name of the column'\n",
    "    del df[string1]              #delete that column\n",
    "    if ix > 1:\n",
    "        string2 = 'Name_IMF'+str(ix)    #creating a string for the 'name of the column'\n",
    "        del df[string2]                 #delete that column"
   ]
  },
  {
   "cell_type": "markdown",
   "metadata": {},
   "source": [
    "## saving new dataframe with modified column names to csv file"
   ]
  },
  {
   "cell_type": "code",
   "execution_count": 9,
   "metadata": {},
   "outputs": [],
   "source": [
    "#--- saving to csv\n",
    "with open('/root/ai/_worKCLASSICAL/SurajKNayak/_ResultsAll_rawNew.csv', 'w', encoding='utf-8') as f:\n",
    "    df.to_csv(f, index=False)\n",
    "#---write to csv < end > "
   ]
  },
  {
   "cell_type": "code",
   "execution_count": null,
   "metadata": {},
   "outputs": [],
   "source": [
    "\"\"\"Done manually\n",
    "#renaming 'elements' in column 'Name'\n",
    "for i in range(0,200):\n",
    "    sx = df.ix[i,'Name']   # pick the element\n",
    "    sxl = sx.split('_')    # slicing with '_' present in element\n",
    "    newsx = sxl[0]         # selecting the needed slice\n",
    "    df = df.replace(sx,newsx)    \n",
    "\"\"\"\n",
    "\n",
    "\"\"\"## ---troubleshoot\n",
    "#compare 2 pandas dataframe\n",
    "from pandas.util.testing import assert_frame_equal\n",
    "df1 =  pd.read_csv('/root/ai/_worKCLASSICAL/SurajKNayak/_ResultsAll_raw.csv')\n",
    "df2 =  pd.read_csv('/root/ai/_worKCLASSICAL/SurajKNayak/_ResultsAll_rawNew.csv')\n",
    "\n",
    "assert_frame_equal(df1, df2)\n",
    "\"\"\""
   ]
  }
 ],
 "metadata": {
  "kernelspec": {
   "display_name": "Python [conda env:ai]",
   "language": "python",
   "name": "conda-env-ai-py"
  },
  "language_info": {
   "codemirror_mode": {
    "name": "ipython",
    "version": 3
   },
   "file_extension": ".py",
   "mimetype": "text/x-python",
   "name": "python",
   "nbconvert_exporter": "python",
   "pygments_lexer": "ipython3",
   "version": "3.7.3"
  }
 },
 "nbformat": 4,
 "nbformat_minor": 2
}
