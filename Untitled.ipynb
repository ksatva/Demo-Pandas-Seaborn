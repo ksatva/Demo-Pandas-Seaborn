{
 "cells": [
  {
   "cell_type": "code",
   "execution_count": null,
   "metadata": {},
   "outputs": [],
   "source": [
    "%load /root/ai/10413Prototypes/_selectRowsPandasDataframe.py"
   ]
  },
  {
   "cell_type": "code",
   "execution_count": 12,
   "metadata": {},
   "outputs": [
    {
     "name": "stdout",
     "output_type": "stream",
     "text": [
      "['%load /root/ai/10413Prototypes/_enum_forStringtoNumericData.py', '%load /root/ai/10413Prototypes/_dsc4_predictStockPrices.py', '%load /root/ai/10413Prototypes/_socketsPortScannerThreaded.py', '%load /root/ai/10413Prototypes/_sockets.py', '%load /root/ai/10413Prototypes/_dsc1_DecisionTreeClassifier.py', '%load /root/ai/10413Prototypes/_socketsHTTPS.py', '%load /root/ai/10413Prototypes/_dsc3_recommendationSystems.py', '%load /root/ai/10413Prototypes/_socketsBindingAndListening.py', '%load /root/ai/10413Prototypes/_importBookmarksFromFirefox_windowsOnly.py', '%load /root/ai/10413Prototypes/_crawlEntireWebsite.py', '%load /root/ai/10413Prototypes/_HandleClipboardContentAndLaunchTheBrowser.py', '%load /root/ai/10413Prototypes/_crawlInternet.py', '%load /root/ai/10413Prototypes/_convertPy2toPy3.py', '%load /root/ai/10413Prototypes/_dsc2_twitterSentimentAnalysis.py', '%load /root/ai/10413Prototypes/_combineTwoPandasDataframe_columnwise.py', '%load /root/ai/10413Prototypes/_socketServerClientSystem.py', '%load /root/ai/10413Prototypes/_floatingWidgets.py', '%load /root/ai/10413Prototypes/_downloadUrlContent.py', '%load /root/ai/10413Prototypes/_executeShellScripts.py', '%load /root/ai/10413Prototypes/_dynamicWebsitePythonWithApache.py', '%load /root/ai/10413Prototypes/_sysArgvs.py', '%load /root/ai/10413Prototypes/_HandleCLIarguments.py', '%load /root/ai/10413Prototypes/_dynamicWebsiteWSGI.py', '%load /root/ai/10413Prototypes/_selectRowsPandasDataframe.py', '%load /root/ai/10413Prototypes/_differentEntropiesSKNayak.py', '%load /root/ai/10413Prototypes/_socketsPortScanner.py', '%load /root/ai/10413Prototypes/_ftpConnectUploadDownload.py', '%load /root/ai/10413Prototypes/.py']\n"
     ]
    }
   ],
   "source": [
    "#python3\n",
    "\n",
    "\"\"\"\n",
    "generating Commands for jupyter Notebook from .py filenames in a directory, eg.,\n",
    "%load /root/ai/10413Prototypes/_selectRowsPandasDataframe.py\n",
    "\"\"\"\n",
    "import os\n",
    "\n",
    "parentDir = '/root/ai/10413Prototypes/'\n",
    "dirList = os.listdir(parentDir)\n",
    "juCommandHeader = \"%load \"\n",
    "\n",
    "juCommand = list()\n",
    "for el in dirList:\n",
    "    if el.endswith('.py'):\n",
    "        absPath = parentDir + el\n",
    "        #print(absPath)\n",
    "        juCommand.append(juCommandHeader + absPath)\n",
    "print(juCommand)        \n",
    "\n",
    "#check if file/folder    \n",
    "    \n",
    "#check file type by extention\n",
    "\n",
    "#generate jupyter command\n"
   ]
  },
  {
   "cell_type": "code",
   "execution_count": 34,
   "metadata": {},
   "outputs": [
    {
     "ename": "AttributeError",
     "evalue": "'str' object has no attribute 'exec'",
     "output_type": "error",
     "traceback": [
      "\u001b[0;31m-------------------------------------------------------------------------\u001b[0m",
      "\u001b[0;31mAttributeError\u001b[0m                          Traceback (most recent call last)",
      "\u001b[0;32m<ipython-input-34-d218cb7f80ff>\u001b[0m in \u001b[0;36m<module>\u001b[0;34m\u001b[0m\n\u001b[0;32m----> 1\u001b[0;31m \u001b[0mjuCommand\u001b[0m\u001b[0;34m[\u001b[0m\u001b[0;36m0\u001b[0m\u001b[0;34m]\u001b[0m\u001b[0;34m.\u001b[0m\u001b[0mexec\u001b[0m\u001b[0;34m\u001b[0m\u001b[0;34m\u001b[0m\u001b[0m\n\u001b[0m",
      "\u001b[0;31mAttributeError\u001b[0m: 'str' object has no attribute 'exec'"
     ]
    }
   ],
   "source": [
    "juCommand[0].exec"
   ]
  },
  {
   "cell_type": "code",
   "execution_count": 15,
   "metadata": {},
   "outputs": [],
   "source": [
    "from IPython.core import magic_arguments\n",
    "from IPython.core.magic import line_magic, cell_magic, line_cell_magic, Magics, magics_class\n",
    " \n",
    "@magics_class\n",
    "class TestMagics(Magics):\n",
    "    @cell_magic\n",
    "    def hello(self, line='', cell=None):\n",
    "        print('hello ' + cell)\n",
    " \n",
    "    @line_magic\n",
    "    def hi(self, line):\n",
    "        print('hi ' + line)\n",
    " \n",
    "ip = get_ipython()\n",
    "ip.register_magics(TestMagics)"
   ]
  },
  {
   "cell_type": "code",
   "execution_count": 18,
   "metadata": {},
   "outputs": [
    {
     "name": "stderr",
     "output_type": "stream",
     "text": [
      "UsageError: Line magic function `%` not found.\n"
     ]
    }
   ],
   "source": [
    "% lsmagic"
   ]
  }
 ],
 "metadata": {
  "kernelspec": {
   "display_name": "Python 3",
   "language": "python",
   "name": "python3"
  },
  "language_info": {
   "codemirror_mode": {
    "name": "ipython",
    "version": 3
   },
   "file_extension": ".py",
   "mimetype": "text/x-python",
   "name": "python",
   "nbconvert_exporter": "python",
   "pygments_lexer": "ipython3",
   "version": "3.7.1"
  }
 },
 "nbformat": 4,
 "nbformat_minor": 2
}
