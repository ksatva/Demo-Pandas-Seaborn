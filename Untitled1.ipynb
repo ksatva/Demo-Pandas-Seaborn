{
 "cells": [
  {
   "cell_type": "markdown",
   "metadata": {},
   "source": [
    "# Pandas example 02 (t"
   ]
  },
  {
   "cell_type": "markdown",
   "metadata": {},
   "source": [
    "## Removing unnessary columns and remaning column labels"
   ]
  },
  {
   "cell_type": "code",
   "execution_count": 79,
   "metadata": {},
   "outputs": [],
   "source": [
    "import pandas as pd"
   ]
  },
  {
   "cell_type": "markdown",
   "metadata": {},
   "source": [
    "## loading csv file as pandas dataframe"
   ]
  },
  {
   "cell_type": "code",
   "execution_count": 80,
   "metadata": {},
   "outputs": [],
   "source": [
    "df =  pd.read_csv('/root/ai/_worKCLASSICAL/SurajKNayak/_step1_PreprocessingAndFeatureExtraction_complete_OptimizationNeeded/_ResultsAll_raw.csv')"
   ]
  },
  {
   "cell_type": "code",
   "execution_count": 63,
   "metadata": {},
   "outputs": [],
   "source": [
    "#df.shape\n",
    "#df.head\n",
    "#df.columns"
   ]
  },
  {
   "cell_type": "code",
   "execution_count": 81,
   "metadata": {},
   "outputs": [
    {
     "data": {
      "text/html": [
       "<div>\n",
       "<style scoped>\n",
       "    .dataframe tbody tr th:only-of-type {\n",
       "        vertical-align: middle;\n",
       "    }\n",
       "\n",
       "    .dataframe tbody tr th {\n",
       "        vertical-align: top;\n",
       "    }\n",
       "\n",
       "    .dataframe thead th {\n",
       "        text-align: right;\n",
       "    }\n",
       "</style>\n",
       "<table border=\"1\" class=\"dataframe\">\n",
       "  <thead>\n",
       "    <tr style=\"text-align: right;\">\n",
       "      <th></th>\n",
       "      <th>N</th>\n",
       "      <th>N.1</th>\n",
       "      <th>N.2</th>\n",
       "      <th>N.3</th>\n",
       "      <th>N.4</th>\n",
       "      <th>N.5</th>\n",
       "      <th>N.6</th>\n",
       "    </tr>\n",
       "  </thead>\n",
       "  <tbody>\n",
       "    <tr>\n",
       "      <th>1</th>\n",
       "      <td>1171</td>\n",
       "      <td>1171</td>\n",
       "      <td>1171</td>\n",
       "      <td>1171</td>\n",
       "      <td>1171</td>\n",
       "      <td>1171</td>\n",
       "      <td>1171</td>\n",
       "    </tr>\n",
       "    <tr>\n",
       "      <th>2</th>\n",
       "      <td>1160</td>\n",
       "      <td>1160</td>\n",
       "      <td>1160</td>\n",
       "      <td>1160</td>\n",
       "      <td>1160</td>\n",
       "      <td>1160</td>\n",
       "      <td>1160</td>\n",
       "    </tr>\n",
       "    <tr>\n",
       "      <th>3</th>\n",
       "      <td>1164</td>\n",
       "      <td>1164</td>\n",
       "      <td>1164</td>\n",
       "      <td>1164</td>\n",
       "      <td>1164</td>\n",
       "      <td>1164</td>\n",
       "      <td>1164</td>\n",
       "    </tr>\n",
       "    <tr>\n",
       "      <th>4</th>\n",
       "      <td>1167</td>\n",
       "      <td>1167</td>\n",
       "      <td>1167</td>\n",
       "      <td>1167</td>\n",
       "      <td>1167</td>\n",
       "      <td>1167</td>\n",
       "      <td>1167</td>\n",
       "    </tr>\n",
       "    <tr>\n",
       "      <th>5</th>\n",
       "      <td>1163</td>\n",
       "      <td>1163</td>\n",
       "      <td>1163</td>\n",
       "      <td>1163</td>\n",
       "      <td>1163</td>\n",
       "      <td>1163</td>\n",
       "      <td>1163</td>\n",
       "    </tr>\n",
       "  </tbody>\n",
       "</table>\n",
       "</div>"
      ],
      "text/plain": [
       "      N   N.1   N.2   N.3   N.4   N.5   N.6\n",
       "1  1171  1171  1171  1171  1171  1171  1171\n",
       "2  1160  1160  1160  1160  1160  1160  1160\n",
       "3  1164  1164  1164  1164  1164  1164  1164\n",
       "4  1167  1167  1167  1167  1167  1167  1167\n",
       "5  1163  1163  1163  1163  1163  1163  1163"
      ]
     },
     "execution_count": 81,
     "metadata": {},
     "output_type": "execute_result"
    }
   ],
   "source": [
    "## Locating Columns to delete \n",
    "#Slicing a column pandas (example)\n",
    "df.loc[1:5,['Name.1', 'Name.2', 'Name.3', 'Name.4', 'Name.5', 'Name.6']] #indexing (example)\n",
    "df.loc[1:5,['N','N.1', 'N.2', 'N.3', 'N.4', 'N.5', 'N.6']] #indexing and slicing (example)"
   ]
  },
  {
   "cell_type": "code",
   "execution_count": 65,
   "metadata": {},
   "outputs": [],
   "source": [
    "#Troubleshoot\n",
    "#print(df)"
   ]
  },
  {
   "cell_type": "markdown",
   "metadata": {},
   "source": [
    "## get \"column names\" from pandas dataframe"
   ]
  },
  {
   "cell_type": "code",
   "execution_count": 82,
   "metadata": {},
   "outputs": [],
   "source": [
    "dfcolnames = list(df.columns.values)  #getting column names"
   ]
  },
  {
   "cell_type": "markdown",
   "metadata": {},
   "source": [
    "## write a rule for renaming (based on the data in 'dfcolnames')"
   ]
  },
  {
   "cell_type": "code",
   "execution_count": 83,
   "metadata": {},
   "outputs": [],
   "source": [
    "# creating list of new names\n",
    "newcols=list()\n",
    "for el in dfcolnames:#range(1,164):\n",
    "   \n",
    "    if el == 'Name':\n",
    "        #print(el)\n",
    "        newcols.append(el)\n",
    "        \n",
    "    elif '.' in el:\n",
    "        elx = el.split('.')\n",
    "        nx = int(elx[1])+1\n",
    "        newcols.append(elx[0] + '_IMF' + str(nx)) #new\n",
    "        #print(newcols)\n",
    "    \n",
    "    else:\n",
    "        newcols.append(el + '_IMF' + str(1)) #new\n",
    "        #print(newcols)\n",
    "\n",
    "#renaming\n",
    "#df.rename(columns={'oldName1': 'newName1', 'oldName2': 'newName2'}, inplace=True)\n",
    "for i in range(0,175):\n",
    "    df.rename(columns={dfcolnames[i]: newcols[i]}, inplace=True)"
   ]
  },
  {
   "cell_type": "code",
   "execution_count": 84,
   "metadata": {},
   "outputs": [
    {
     "name": "stdout",
     "output_type": "stream",
     "text": [
      "Old column names:\n",
      " ['Name', 'N', 'Summation', 'Mean', 'Median', 'Mode', 'Var', 'SD', 'Skewness', 'Kurtosis', 'RMS', 'Energy', 'LogEnergy', 'ShannonEn', 'ApproxEntropy', 'SampEntropy', 'svdEntropy', 'SpectralEntropy', 'PermutationEntropy', 'FisherInfo', 'HFD', 'Activity', 'Complexity', 'Morbidity', 'PFD', 'Name.1', 'N.1', 'Summation.1', 'Mean.1', 'Median.1', 'Mode.1', 'Var.1', 'SD.1', 'Skewness.1', 'Kurtosis.1', 'RMS.1', 'Energy.1', 'LogEnergy.1', 'ShannonEn.1', 'ApproxEntropy.1', 'SampEntropy.1', 'svdEntropy.1', 'SpectralEntropy.1', 'PermutationEntropy.1', 'FisherInfo.1', 'HFD.1', 'Activity.1', 'Complexity.1', 'Morbidity.1', 'PFD.1', 'Name.2', 'N.2', 'Summation.2', 'Mean.2', 'Median.2', 'Mode.2', 'Var.2', 'SD.2', 'Skewness.2', 'Kurtosis.2', 'RMS.2', 'Energy.2', 'LogEnergy.2', 'ShannonEn.2', 'ApproxEntropy.2', 'SampEntropy.2', 'svdEntropy.2', 'SpectralEntropy.2', 'PermutationEntropy.2', 'FisherInfo.2', 'HFD.2', 'Activity.2', 'Complexity.2', 'Morbidity.2', 'PFD.2', 'Name.3', 'N.3', 'Summation.3', 'Mean.3', 'Median.3', 'Mode.3', 'Var.3', 'SD.3', 'Skewness.3', 'Kurtosis.3', 'RMS.3', 'Energy.3', 'LogEnergy.3', 'ShannonEn.3', 'ApproxEntropy.3', 'SampEntropy.3', 'svdEntropy.3', 'SpectralEntropy.3', 'PermutationEntropy.3', 'FisherInfo.3', 'HFD.3', 'Activity.3', 'Complexity.3', 'Morbidity.3', 'PFD.3', 'Name.4', 'N.4', 'Summation.4', 'Mean.4', 'Median.4', 'Mode.4', 'Var.4', 'SD.4', 'Skewness.4', 'Kurtosis.4', 'RMS.4', 'Energy.4', 'LogEnergy.4', 'ShannonEn.4', 'ApproxEntropy.4', 'SampEntropy.4', 'svdEntropy.4', 'SpectralEntropy.4', 'PermutationEntropy.4', 'FisherInfo.4', 'HFD.4', 'Activity.4', 'Complexity.4', 'Morbidity.4', 'PFD.4', 'Name.5', 'N.5', 'Summation.5', 'Mean.5', 'Median.5', 'Mode.5', 'Var.5', 'SD.5', 'Skewness.5', 'Kurtosis.5', 'RMS.5', 'Energy.5', 'LogEnergy.5', 'ShannonEn.5', 'ApproxEntropy.5', 'SampEntropy.5', 'svdEntropy.5', 'SpectralEntropy.5', 'PermutationEntropy.5', 'FisherInfo.5', 'HFD.5', 'Activity.5', 'Complexity.5', 'Morbidity.5', 'PFD.5', 'Name.6', 'N.6', 'Summation.6', 'Mean.6', 'Median.6', 'Mode.6', 'Var.6', 'SD.6', 'Skewness.6', 'Kurtosis.6', 'RMS.6', 'Energy.6', 'LogEnergy.6', 'ShannonEn.6', 'ApproxEntropy.6', 'SampEntropy.6', 'svdEntropy.6', 'SpectralEntropy.6', 'PermutationEntropy.6', 'FisherInfo.6', 'HFD.6', 'Activity.6', 'Complexity.6', 'Morbidity.6', 'PFD.6']\n",
      "\n",
      "New column names:\n",
      " ['Name', 'N.IMF1', 'Summation.IMF1', 'Mean.IMF1', 'Median.IMF1', 'Mode.IMF1', 'Var.IMF1', 'SD.IMF1', 'Skewness.IMF1', 'Kurtosis.IMF1', 'RMS.IMF1', 'Energy.IMF1', 'LogEnergy.IMF1', 'ShannonEn.IMF1', 'ApproxEntropy.IMF1', 'SampEntropy.IMF1', 'svdEntropy.IMF1', 'SpectralEntropy.IMF1', 'PermutationEntropy.IMF1', 'FisherInfo.IMF1', 'HFD.IMF1', 'Activity.IMF1', 'Complexity.IMF1', 'Morbidity.IMF1', 'PFD.IMF1', 'Name.IMF2', 'N.IMF2', 'Summation.IMF2', 'Mean.IMF2', 'Median.IMF2', 'Mode.IMF2', 'Var.IMF2', 'SD.IMF2', 'Skewness.IMF2', 'Kurtosis.IMF2', 'RMS.IMF2', 'Energy.IMF2', 'LogEnergy.IMF2', 'ShannonEn.IMF2', 'ApproxEntropy.IMF2', 'SampEntropy.IMF2', 'svdEntropy.IMF2', 'SpectralEntropy.IMF2', 'PermutationEntropy.IMF2', 'FisherInfo.IMF2', 'HFD.IMF2', 'Activity.IMF2', 'Complexity.IMF2', 'Morbidity.IMF2', 'PFD.IMF2', 'Name.IMF3', 'N.IMF3', 'Summation.IMF3', 'Mean.IMF3', 'Median.IMF3', 'Mode.IMF3', 'Var.IMF3', 'SD.IMF3', 'Skewness.IMF3', 'Kurtosis.IMF3', 'RMS.IMF3', 'Energy.IMF3', 'LogEnergy.IMF3', 'ShannonEn.IMF3', 'ApproxEntropy.IMF3', 'SampEntropy.IMF3', 'svdEntropy.IMF3', 'SpectralEntropy.IMF3', 'PermutationEntropy.IMF3', 'FisherInfo.IMF3', 'HFD.IMF3', 'Activity.IMF3', 'Complexity.IMF3', 'Morbidity.IMF3', 'PFD.IMF3', 'Name.IMF4', 'N.IMF4', 'Summation.IMF4', 'Mean.IMF4', 'Median.IMF4', 'Mode.IMF4', 'Var.IMF4', 'SD.IMF4', 'Skewness.IMF4', 'Kurtosis.IMF4', 'RMS.IMF4', 'Energy.IMF4', 'LogEnergy.IMF4', 'ShannonEn.IMF4', 'ApproxEntropy.IMF4', 'SampEntropy.IMF4', 'svdEntropy.IMF4', 'SpectralEntropy.IMF4', 'PermutationEntropy.IMF4', 'FisherInfo.IMF4', 'HFD.IMF4', 'Activity.IMF4', 'Complexity.IMF4', 'Morbidity.IMF4', 'PFD.IMF4', 'Name.IMF5', 'N.IMF5', 'Summation.IMF5', 'Mean.IMF5', 'Median.IMF5', 'Mode.IMF5', 'Var.IMF5', 'SD.IMF5', 'Skewness.IMF5', 'Kurtosis.IMF5', 'RMS.IMF5', 'Energy.IMF5', 'LogEnergy.IMF5', 'ShannonEn.IMF5', 'ApproxEntropy.IMF5', 'SampEntropy.IMF5', 'svdEntropy.IMF5', 'SpectralEntropy.IMF5', 'PermutationEntropy.IMF5', 'FisherInfo.IMF5', 'HFD.IMF5', 'Activity.IMF5', 'Complexity.IMF5', 'Morbidity.IMF5', 'PFD.IMF5', 'Name.IMF6', 'N.IMF6', 'Summation.IMF6', 'Mean.IMF6', 'Median.IMF6', 'Mode.IMF6', 'Var.IMF6', 'SD.IMF6', 'Skewness.IMF6', 'Kurtosis.IMF6', 'RMS.IMF6', 'Energy.IMF6', 'LogEnergy.IMF6', 'ShannonEn.IMF6', 'ApproxEntropy.IMF6', 'SampEntropy.IMF6', 'svdEntropy.IMF6', 'SpectralEntropy.IMF6', 'PermutationEntropy.IMF6', 'FisherInfo.IMF6', 'HFD.IMF6', 'Activity.IMF6', 'Complexity.IMF6', 'Morbidity.IMF6', 'PFD.IMF6', 'Name.IMF7', 'N.IMF7', 'Summation.IMF7', 'Mean.IMF7', 'Median.IMF7', 'Mode.IMF7', 'Var.IMF7', 'SD.IMF7', 'Skewness.IMF7', 'Kurtosis.IMF7', 'RMS.IMF7', 'Energy.IMF7', 'LogEnergy.IMF7', 'ShannonEn.IMF7', 'ApproxEntropy.IMF7', 'SampEntropy.IMF7', 'svdEntropy.IMF7', 'SpectralEntropy.IMF7', 'PermutationEntropy.IMF7', 'FisherInfo.IMF7', 'HFD.IMF7', 'Activity.IMF7', 'Complexity.IMF7', 'Morbidity.IMF7', 'PFD.IMF7']\n"
     ]
    }
   ],
   "source": [
    "#Troubleshoot\n",
    "print('Old column names:\\n',dfcolnames) #---old column names\n",
    "print('\\nNew column names:\\n',newel) #---new column names"
   ]
  },
  {
   "cell_type": "markdown",
   "metadata": {},
   "source": [
    "## Deleting columns from pandas dataframe"
   ]
  },
  {
   "cell_type": "code",
   "execution_count": 85,
   "metadata": {},
   "outputs": [],
   "source": [
    "# del df['N']\n",
    "for ix in range(1,8):\n",
    "    #string = 'Name.'+str(ix)\n",
    "    string1 = 'N_IMF'+str(ix)    #creating a string for the 'name of the column'\n",
    "    del df[string1]              #delete that column\n",
    "    if ix > 1:\n",
    "        string2 = 'Name_IMF'+str(ix)    #creating a string for the 'name of the column'\n",
    "        del df[string2]                 #delete that column"
   ]
  },
  {
   "cell_type": "markdown",
   "metadata": {},
   "source": [
    "## saving new dataframe with modified column names to csv file"
   ]
  },
  {
   "cell_type": "code",
   "execution_count": 86,
   "metadata": {},
   "outputs": [],
   "source": [
    "#--- saving to csv\n",
    "with open('/root/ai/_worKCLASSICAL/SurajKNayak/_ResultsAll_rawNew.csv', 'w', encoding='utf-8') as f:\n",
    "    df.to_csv(f, index=False)\n",
    "#---write to csv < end > "
   ]
  },
  {
   "cell_type": "code",
   "execution_count": null,
   "metadata": {},
   "outputs": [],
   "source": [
    "\"\"\"Done manually\n",
    "#renaming 'elements' in column 'Name'\n",
    "for i in range(0,200):\n",
    "    sx = df.ix[i,'Name']   # pick the element\n",
    "    sxl = sx.split('_')    # slicing with '_' present in element\n",
    "    newsx = sxl[0]         # selecting the needed slice\n",
    "    df = df.replace(sx,newsx)    \n",
    "\"\"\"\n",
    "\n",
    "\"\"\"## ---troubleshoot\n",
    "#compare 2 pandas dataframe\n",
    "from pandas.util.testing import assert_frame_equal\n",
    "df1 =  pd.read_csv('/root/ai/_worKCLASSICAL/SurajKNayak/_ResultsAll_raw.csv')\n",
    "df2 =  pd.read_csv('/root/ai/_worKCLASSICAL/SurajKNayak/_ResultsAll_rawNew.csv')\n",
    "\n",
    "assert_frame_equal(df1, df2)\n",
    "\"\"\""
   ]
  }
 ],
 "metadata": {
  "kernelspec": {
   "display_name": "Python [conda env:ai]",
   "language": "python",
   "name": "conda-env-ai-py"
  },
  "language_info": {
   "codemirror_mode": {
    "name": "ipython",
    "version": 3
   },
   "file_extension": ".py",
   "mimetype": "text/x-python",
   "name": "python",
   "nbconvert_exporter": "python",
   "pygments_lexer": "ipython3",
   "version": "3.7.3"
  }
 },
 "nbformat": 4,
 "nbformat_minor": 2
}
